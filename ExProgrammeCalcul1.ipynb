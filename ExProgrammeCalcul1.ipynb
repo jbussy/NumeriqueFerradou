{
 "cells": [
  {
   "cell_type": "markdown",
   "id": "8bb99906",
   "metadata": {},
   "source": [
    "# Chapitre 3 : Programme de calcul\n",
    "\n",
    "### 1 - Compléter la fonction progCalcul1 qui prend comme paramètre x correspondant au programmme de calcul ci-dessous :\n",
    "\n",
    "progamme :\n",
    " - Choisir un nombre x\n",
    " - Ajouter 2\n",
    " - élevé le résultat au carré\n",
    " - soustraire le Triple du nombre de départ\n",
    " - renvoyer le resultat\n",
    "\n"
   ]
  },
  {
   "cell_type": "code",
   "execution_count": 2,
   "id": "53c3d40a",
   "metadata": {},
   "outputs": [],
   "source": [
    "def progCalcul1( x ) :   # Vous venez de créer une fonction progCalcul1 qui prend en paramètre une valeur x\n",
    "    \n",
    "    \n",
    "    return resultat      # Votre fonction renvoi la variable resultat"
   ]
  },
  {
   "cell_type": "markdown",
   "id": "ad133e80",
   "metadata": {},
   "source": [
    "### 2 - Vérifier que si vous saisissez 10 vous obtenez 114 : \n"
   ]
  },
  {
   "cell_type": "code",
   "execution_count": 3,
   "id": "a92f73ae",
   "metadata": {},
   "outputs": [],
   "source": [
    "#Saisir dans la zone : progCalcul1(10)"
   ]
  },
  {
   "cell_type": "markdown",
   "id": "22f8ee30",
   "metadata": {},
   "source": [
    "### 3 - Executer la zone ci-dessous afin de vérifier que votre fonction est correcte.\n",
    "Après avoir complété votre fonction, vous devez executer la zone ci-dessous. SI vous n'avez pas de message d'eeru"
   ]
  },
  {
   "cell_type": "code",
   "execution_count": 4,
   "id": "1fb32de3",
   "metadata": {},
   "outputs": [
    {
     "ename": "NameError",
     "evalue": "name 'resultat' is not defined",
     "output_type": "error",
     "traceback": [
      "\u001b[1;31m---------------------------------------------------------------------------\u001b[0m",
      "\u001b[1;31mNameError\u001b[0m                                 Traceback (most recent call last)",
      "\u001b[1;32m<ipython-input-4-d139c06cce2f>\u001b[0m in \u001b[0;36m<module>\u001b[1;34m\u001b[0m\n\u001b[1;32m----> 1\u001b[1;33m \u001b[1;32massert\u001b[0m \u001b[0mprogCalcul1\u001b[0m\u001b[1;33m(\u001b[0m\u001b[1;36m10\u001b[0m\u001b[1;33m)\u001b[0m\u001b[1;33m==\u001b[0m\u001b[1;36m114\u001b[0m\u001b[1;33m,\u001b[0m \u001b[1;34m\"Attention problème avec la valeur de x = 10\"\u001b[0m\u001b[1;33m\u001b[0m\u001b[1;33m\u001b[0m\u001b[0m\n\u001b[0m\u001b[0;32m      2\u001b[0m \u001b[1;32massert\u001b[0m \u001b[0mprogCalcul1\u001b[0m\u001b[1;33m(\u001b[0m\u001b[1;36m0\u001b[0m\u001b[1;33m)\u001b[0m\u001b[1;33m==\u001b[0m\u001b[1;36m4\u001b[0m\u001b[1;33m,\u001b[0m \u001b[1;34m\"Attention problème avec la valeur de x = 0\"\u001b[0m\u001b[1;33m\u001b[0m\u001b[1;33m\u001b[0m\u001b[0m\n\u001b[0;32m      3\u001b[0m \u001b[1;32massert\u001b[0m \u001b[0mprogCalcul1\u001b[0m\u001b[1;33m(\u001b[0m\u001b[1;33m-\u001b[0m\u001b[1;36m2\u001b[0m\u001b[1;33m)\u001b[0m\u001b[1;33m==\u001b[0m\u001b[1;33m-\u001b[0m\u001b[1;36m6\u001b[0m\u001b[1;33m,\u001b[0m \u001b[1;34m\"Attention problème avec la valeur de x = 10\"\u001b[0m\u001b[1;33m\u001b[0m\u001b[1;33m\u001b[0m\u001b[0m\n",
      "\u001b[1;32m<ipython-input-2-74199de5bcee>\u001b[0m in \u001b[0;36mprogCalcul1\u001b[1;34m(x)\u001b[0m\n\u001b[0;32m      2\u001b[0m \u001b[1;33m\u001b[0m\u001b[0m\n\u001b[0;32m      3\u001b[0m \u001b[1;33m\u001b[0m\u001b[0m\n\u001b[1;32m----> 4\u001b[1;33m     \u001b[1;32mreturn\u001b[0m \u001b[0mresultat\u001b[0m\u001b[1;33m\u001b[0m\u001b[1;33m\u001b[0m\u001b[0m\n\u001b[0m",
      "\u001b[1;31mNameError\u001b[0m: name 'resultat' is not defined"
     ]
    }
   ],
   "source": [
    "assert progCalcul1(10)==114, \"Attention problème avec la valeur de x = 10\"\n",
    "assert progCalcul1(0)==4, \"Attention problème avec la valeur de x = 0\"\n",
    "assert progCalcul1(-2)==-6, \"Attention problème avec la valeur de x = 10\"\n"
   ]
  },
  {
   "cell_type": "code",
   "execution_count": null,
   "id": "532d6bed",
   "metadata": {},
   "outputs": [],
   "source": []
  }
 ],
 "metadata": {
  "kernelspec": {
   "display_name": "Python 3",
   "language": "python",
   "name": "python3"
  },
  "language_info": {
   "codemirror_mode": {
    "name": "ipython",
    "version": 3
   },
   "file_extension": ".py",
   "mimetype": "text/x-python",
   "name": "python",
   "nbconvert_exporter": "python",
   "pygments_lexer": "ipython3",
   "version": "3.7.6"
  }
 },
 "nbformat": 4,
 "nbformat_minor": 5
}

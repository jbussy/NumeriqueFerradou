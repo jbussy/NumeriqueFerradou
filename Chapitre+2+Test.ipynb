{
 "cells": [
  {
   "cell_type": "markdown",
   "metadata": {},
   "source": [
    "#                       Chapitre 2 Test sous python.\n",
    "\n",
    "### I - Définition \n",
    "Les **tests** sont un élément essentiel à tout langage informatique si on veut lui donner un peu de complexité car ils permettent à l'ordinateur de prendre des décisions si telle ou telle condition est vraie ou fausse. Pour cela, Python utilise l'instruction if ainsi qu'une comparaison que nous avons abordée au chapitre précédent. \n",
    "\n",
    "En voici un exemple : "
   ]
  },
  {
   "cell_type": "code",
   "execution_count": 1,
   "metadata": {},
   "outputs": [
    {
     "name": "stdout",
     "output_type": "stream",
     "text": [
      "Le test est vrai !\n"
     ]
    }
   ],
   "source": [
    "x = 2\n",
    "if x == 2:\n",
    "    print(\"Le test est vrai !\")\n",
    "    \n",
    "x = \"souris\"\n",
    "if x == \"tigre\":\n",
    "    print(\"Le test 2 est vrai !\") "
   ]
  },
  {
   "cell_type": "markdown",
   "metadata": {},
   "source": [
    "Plusieurs remarques concernant ces deux exemples : \n",
    "* Dans le premier exemple, le test étant vrai, l'instruction print(\"Le test est vrai !\") est exécutée. Dans le second exemple, le test est faux et rien n'est affiché. \n",
    "* Les blocs d'instruction dans les tests doivent forcément être indentés comme les boucles for et while. L'indentation indique la portée des instructions à exécuter si le test est vrai. \n",
    "* L'instruction if se termine comme les instructions for et while par le caractère :.  \n",
    "* **Attention** : Une affectation se fait en utilisant le signe **=** qui se lit « prend la valeur »\n",
    "Tester si une égalité est vraie ou fausse se fait en utilisant **==**. \n",
    "\n",
    "### II - Tests à plusieurs cas \n",
    "Parfois, il est pratique de tester si la condition est vraie ou si elle est fausse dans une même instruction if. Plutôt que d'utiliser deux instructions if, on peut se servir de if et de else :"
   ]
  },
  {
   "cell_type": "code",
   "execution_count": 2,
   "metadata": {},
   "outputs": [
    {
     "name": "stdout",
     "output_type": "stream",
     "text": [
      "Le test est vrai !\n",
      "Le test est faux !\n"
     ]
    }
   ],
   "source": [
    "x = 2\n",
    "if x == 2:\n",
    "    print( \"Le test est vrai !\")\n",
    "else:                                    #Interdiction de mettre une condition avec le else !!!!!\n",
    "    print(\"Le test est faux !\")\n",
    "\n",
    "x = 3\n",
    "if x == 2:\n",
    "    print(\"Le test est vrai !\")\n",
    "else:\n",
    "    print(\"Le test est faux !\")"
   ]
  },
  {
   "cell_type": "markdown",
   "metadata": {},
   "source": [
    "On peut utiliser une série de tests dans la même instruction if, notamment pour tester plusieurs valeurs d'une même variable. Par exemple, on se propose de tirer au sort une base d'ADN puis d'afficher le nom de cette dernière. Dans le code suivant, nous utilisons l'intruction random.choice(liste) qui renvoie un élément choisi au hasard dans une liste. L'instruction import random sera vue plus tard, admettez pour le moment qu'elle est nécessaire. "
   ]
  },
  {
   "cell_type": "code",
   "execution_count": 3,
   "metadata": {},
   "outputs": [
    {
     "name": "stdout",
     "output_type": "stream",
     "text": [
      "choix d'une cytosine\n"
     ]
    }
   ],
   "source": [
    "import random\n",
    "base = random.choice([\"a\", \"t\", \"c\", \"g\"])\n",
    "if base == \"a\":\n",
    "    print( \"choix d'une adénine\")\n",
    "elif base == \"t\":\n",
    "    print( \"choix d'une thymine\")\n",
    "elif base == \"c\":\n",
    "    print( \"choix d'une cytosine\")\n",
    "elif base == \"g\":\n",
    "    print( \"choix d'une guanine\" )\n"
   ]
  },
  {
   "cell_type": "markdown",
   "metadata": {},
   "source": [
    "Dans cet exemple, Python teste la première condition, puis, si et seulement si elle est fausse, teste la deuxième et ainsi de suite... Le code correspondant à la première condition vérifiée est exécuté puis Python sort du if. \n",
    "\n",
    "La structure Si / Sinon imbriqué de seconde :"
   ]
  },
  {
   "cell_type": "code",
   "execution_count": null,
   "metadata": {
    "collapsed": true
   },
   "outputs": [],
   "source": [
    "nb=80\n",
    "if nb > 100:\n",
    "      print(\"Ce nombre convient.\")\n",
    "else:\n",
    "    if nb > 80:\n",
    "        print(\"Ce nombre est un peu trop petit.\")\n",
    "    else:\n",
    "        if nb > 60:\n",
    "            print(\"Ce nombre est vraiment trop petit.\")\n",
    "        else:\n",
    "            print( \"Ce nombre ne convient pas du tout.\")\n"
   ]
  },
  {
   "cell_type": "markdown",
   "metadata": {},
   "source": [
    "est remplacée par :"
   ]
  },
  {
   "cell_type": "code",
   "execution_count": null,
   "metadata": {
    "collapsed": true
   },
   "outputs": [],
   "source": [
    "if nb > 100:\n",
    "    print(\"Ce nombre convient.\")\n",
    "elif nb > 80:\n",
    "    print(\"Ce nombre est un peu trop petit.\")\n",
    "elif nb > 60:\n",
    "    print(\"Ce nombre est vraiment trop petit.\")\n",
    "else:\n",
    "    print( \"Ce nombre ne convient pas du tout.\")"
   ]
  },
  {
   "cell_type": "markdown",
   "metadata": {},
   "source": [
    "### III – Tests multiples \n",
    "Les tests multiples permettent de tester plusieurs conditions en même temps en utilisant des opérateurs booléens. Les deux opérateurs les plus couramment utilisés sont le OU et le ET. Voici un petit rappel du mode de fonctionnement de ces opérateurs : \n",
    "\n",
    "\n",
    "| Condition 1      |Opérateur     | Condition 2 |Résultat|\n",
    "| :------------ | :------------- | :------------- | :------------- |\n",
    "|  Vrai         |  OU            | Vrai           |Vrai|\n",
    "|   Vrai        |   OU           |Faux             |Vrai|\n",
    "|   Faux        |   OU           |Vrai          |Vrai|\n",
    "|   Faux        |   OU           |Faux         | Faux |                       \n",
    "|   Vrai        |   ET           |Vrai         | Vrai|\n",
    "|   Vrai        |   ET           |Faux         | Faux|\n",
    "|   Faux        |   ET           |Vrai         | Faux|\n",
    "|  Faux         |  ET            | Faux        |  Faux|\n",
    "\n",
    "\n",
    "En Python, on utilise le mot réservé and pour l'opérateur ET et le mot réservé or pour l'opérateur OU. Respectez bien la casse, and et or s'écrivent en minuscule. En voici un exemple d'utilisation : \n"
   ]
  },
  {
   "cell_type": "code",
   "execution_count": 4,
   "metadata": {},
   "outputs": [
    {
     "name": "stdout",
     "output_type": "stream",
     "text": [
      "le test est vrai\n"
     ]
    }
   ],
   "source": [
    "x = 2\n",
    "y = 2\n",
    "if x == 2 and y == 2:\n",
    "    print(\"le test est vrai\")"
   ]
  },
  {
   "cell_type": "markdown",
   "metadata": {},
   "source": [
    "Notez que le même résulat serait obtenu en utilisant deux instructions if imbriquées : "
   ]
  },
  {
   "cell_type": "code",
   "execution_count": 5,
   "metadata": {},
   "outputs": [
    {
     "name": "stdout",
     "output_type": "stream",
     "text": [
      "le test est vrai\n"
     ]
    }
   ],
   "source": [
    "x = 2\n",
    "y = 2\n",
    "if x == 2:\n",
    "    if y == 2:\n",
    "        print( \"le test est vrai\")"
   ]
  },
  {
   "cell_type": "markdown",
   "metadata": {},
   "source": [
    "Vous pouvez aussi tester directement l'effet de ces opérateurs à l'aide de True et False (attention à respecter la casse). "
   ]
  },
  {
   "cell_type": "code",
   "execution_count": 6,
   "metadata": {},
   "outputs": [
    {
     "data": {
      "text/plain": [
       "True"
      ]
     },
     "execution_count": 6,
     "metadata": {},
     "output_type": "execute_result"
    }
   ],
   "source": [
    "True or False"
   ]
  },
  {
   "cell_type": "markdown",
   "metadata": {},
   "source": [
    "On peut aussi utiliser le mot clé not (Négation)"
   ]
  },
  {
   "cell_type": "code",
   "execution_count": null,
   "metadata": {
    "collapsed": true
   },
   "outputs": [],
   "source": [
    "not True\n",
    "\n",
    "not False\n",
    "\n",
    "not True and True"
   ]
  },
  {
   "cell_type": "markdown",
   "metadata": {},
   "source": [
    "**Priorité** entre les opérateurs  \n",
    "\n",
    "++ prioritaire :\n",
    "* Négation\n",
    "* et (and)\n",
    "* ou (or) \n",
    "  \n",
    "a or not b and C est la même expression que  : a or (not(b) and C)  \n",
    "\n",
    "Attention il faut mieux ajouter les parenthèses"
   ]
  },
  {
   "cell_type": "markdown",
   "metadata": {},
   "source": [
    "Chaine de comparaison :"
   ]
  },
  {
   "cell_type": "markdown",
   "metadata": {},
   "source": [
    "on peut écrire : 10 <= x <= 20  \n",
    "\n",
    "Les opérateurs sont **paresseux** :  \n",
    "Qu'affiche le programme ci-dessous pour :   \n",
    "* a = 1 et  b = 2\n",
    "* a = 0 et  b = 2\n",
    "* a = 2 et  b = 0\n",
    "* a = 0 et  b = 0    "
   ]
  },
  {
   "cell_type": "code",
   "execution_count": 11,
   "metadata": {},
   "outputs": [],
   "source": [
    "a= 0\n",
    "b = 0\n",
    "if a != 0 and (a/b!=1):  \n",
    "    print(\"les nombres sont différents\")  \n"
   ]
  },
  {
   "cell_type": "markdown",
   "metadata": {},
   "source": [
    "Expliquer ce qu'il se passe pour les 2 derniers cas.\n",
    "                 \n",
    "                  \n",
    "                                    \n",
    "                             "
   ]
  },
  {
   "cell_type": "markdown",
   "metadata": {},
   "source": [
    "### IV - Comparaison de nombres :\n",
    "\n",
    "*\tx == y est vrai quand x est égal à y,\n",
    "*\tx != y est vrai quand x est différent de y,\n",
    "*\tx > y est vrai quand x est strictement supérieur à y,\n",
    "*\tx < y est vrai quand x est strictement inférieur à y,\n",
    "*\tx >= y est vrai quand x est supérieur ou égal à y, et\n",
    "*\tx <= y est vrai quand x est inférieur ou égal à y.\n",
    "\n",
    "### V – Pour comprendre la notion de condition : Valeur Booléenne True / False\n",
    "Lors d’un test, python évalue la condition nb > 100, par exemple, qui peut prendre les 2 valeurs True ou False. "
   ]
  },
  {
   "cell_type": "code",
   "execution_count": 12,
   "metadata": {},
   "outputs": [
    {
     "data": {
      "text/plain": [
       "True"
      ]
     },
     "execution_count": 12,
     "metadata": {},
     "output_type": "execute_result"
    }
   ],
   "source": [
    "nb=20\n",
    "nb < 100 "
   ]
  },
  {
   "cell_type": "code",
   "execution_count": 13,
   "metadata": {},
   "outputs": [
    {
     "data": {
      "text/plain": [
       "False"
      ]
     },
     "execution_count": 13,
     "metadata": {},
     "output_type": "execute_result"
    }
   ],
   "source": [
    "nb=20\n",
    "nb > 100 "
   ]
  },
  {
   "cell_type": "markdown",
   "metadata": {},
   "source": [
    "True et False sont les 2 valeurs que peut prendre une variable booléenne.\n",
    "------------------\n",
    "\n",
    "### VI – Exercices\n",
    "================  \n",
    "**Exercice 1 :**      \n",
    "def tarif(age) :  \n",
    "&emsp;if age < 10 :  \n",
    "&emsp;&emsp;prix = 0  \n",
    "&emsp;elif age >18 :  \n",
    "&emsp;&emsp;prix =15   \n",
    "&emsp;else :  \n",
    "&emsp;&emsp;prix = 9  \n",
    "  &emsp;return prix  \n",
    "\n",
    "* 1 - Que retourne tarif(7) ?   \n",
    "* 2 - Que retourne tarif(11) ?\n",
    "* 3 - Que retourne tarif(10) ?\n",
    "  \n",
    "**Exercice 2 :** jeu de la bataille navale le bateau est en coordonnées (2 ; 2)  \n",
    "def touche(x , y) :    \n",
    "   &emsp; if x == 2:    \n",
    "   &emsp;&emsp;    if y == 2:    \n",
    "   &emsp; &emsp;&emsp; print( \"le bateau est touché\")   \n",
    "   &emsp;&emsp;else :  \n",
    "   &emsp;&emsp;&emsp;print( \"trop haut ou trop bas\")  \n",
    "   &emsp;else :  \n",
    "   &emsp;&emsp;   if y == 2:  \n",
    "   &emsp;&emsp;&emsp;      print( \"trop a gauche ou à droite\")  \n",
    "     &emsp;&emsp;else :  \n",
    "         &emsp;&emsp;&emsp;print( \"loupé\")  \n",
    "\n",
    "* 1 – Qu’affiche touche( 2, 5)\n",
    "* 2 – Qu’affiche touche(4, 5)\n",
    "* 3 – Qu’affiche touche( 2, 3)\n",
    "  \n",
    "**Exercice 3 :**  \n",
    "* True and False est égal à : ….\t\t   \n",
    "* True and True est égal à : ….   \n",
    "* True or False est égal à : ….\t\t   \t\n",
    "* True or True est égal à : ….\n",
    "* Not (True or False) est égale à    \n",
    "  \n",
    "**Exercice 4 :**  \n",
    "if x=3 and y !=8 :    \n",
    "&emsp;   print(\"cas 1 \")    \n",
    "if x<3 and y == 8 :  \n",
    "&emsp;   print(\"cas 2 \")  \n",
    "if x!=3 and y ! = 8 :  \n",
    "&emsp;     print(\"cas 3 \")\n",
    "* 1 - avec x = 3 et y =5 dans quel cas est-on ?   \n",
    "* 2 - avec x = 2 et y =5 dans quel cas est-on ?   \n",
    "* 3 - avec x = 3 et y = 8 dans quel cas est-on ?   \n",
    "  \n",
    "**Exercice 5 :**  \n",
    "Toute information sur un ordinateur est stocké avec des 0 et 1.  \n",
    "Pour stocker 2 valeurs (0 et 1) il suffit d'un bit    \n",
    "Pour stocker 256 valeurs il suffit d'un octet (8 bits)  \n",
    "Pour stocker 65556 valeurs il suffit de 2 octets (16 bits)  \n",
    "\n",
    "Quel le problème de ces quelques lignes :  \n",
    "Modifier ce programme afin qu il fonctionne :\n",
    "\n",
    "if n<=2 :  \n",
    "&emsp;    print(\"bit\")  \n",
    "if n<=256 :  \n",
    "&emsp;    print(\"Octet\")  \n",
    "if n<=65556 :  \n",
    "&emsp;    print(\"2 Octets\")  \n",
    "\n"
   ]
  },
  {
   "cell_type": "markdown",
   "metadata": {},
   "source": []
  }
 ],
 "metadata": {
  "kernelspec": {
   "display_name": "Python 3",
   "language": "python",
   "name": "python3"
  },
  "language_info": {
   "codemirror_mode": {
    "name": "ipython",
    "version": 3
   },
   "file_extension": ".py",
   "mimetype": "text/x-python",
   "name": "python",
   "nbconvert_exporter": "python",
   "pygments_lexer": "ipython3",
   "version": "3.4.5"
  }
 },
 "nbformat": 4,
 "nbformat_minor": 2
}
